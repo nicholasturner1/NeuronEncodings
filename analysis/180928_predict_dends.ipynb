{
 "cells": [
  {
   "cell_type": "code",
   "execution_count": 1,
   "metadata": {},
   "outputs": [],
   "source": [
    "import neuronencodings as ne\n",
    "from meshparty import mesh_io"
   ]
  },
  {
   "cell_type": "markdown",
   "metadata": {},
   "source": [
    "# Setting up"
   ]
  },
  {
   "cell_type": "code",
   "execution_count": 2,
   "metadata": {},
   "outputs": [],
   "source": [
    "d = ne.data.fetch_dset_dirs(\"pinky100_orphan_dends\")[0]\n",
    "fs = ne.data.utils.files_from_dir(d)"
   ]
  },
  {
   "cell_type": "code",
   "execution_count": 3,
   "metadata": {},
   "outputs": [],
   "source": [
    "meshmeta = mesh_io.MeshMeta()"
   ]
  },
  {
   "cell_type": "code",
   "execution_count": 4,
   "metadata": {},
   "outputs": [],
   "source": [
    "mesh = meshmeta.mesh(fs[0])"
   ]
  },
  {
   "cell_type": "code",
   "execution_count": 5,
   "metadata": {},
   "outputs": [],
   "source": [
    "chkpt_fname = \"/usr/people/nturner/seungmount/research/nick_and_sven/models_nick/p100_dend_outer/packaged/model_180000.chkpt\"\n",
    "model = ne.utils.load_autoencoder(\"PointNetAE\", n_pts=1000, bottle_fs=64, chkpt_fname=chkpt_fname)"
   ]
  },
  {
   "cell_type": "markdown",
   "metadata": {},
   "source": [
    "## Picking cells"
   ]
  },
  {
   "cell_type": "code",
   "execution_count": 6,
   "metadata": {},
   "outputs": [],
   "source": [
    "import random\n",
    "random.seed(12345)\n",
    "files = random.sample(fs, 300)"
   ]
  },
  {
   "cell_type": "code",
   "execution_count": 7,
   "metadata": {},
   "outputs": [],
   "source": [
    "INF_DIR = \"/usr/people/nturner/seungmount/research/nick_and_sven/models_nick/p100_dend_outer/inference\""
   ]
  },
  {
   "cell_type": "code",
   "execution_count": 8,
   "metadata": {},
   "outputs": [],
   "source": [
    "with open(f\"{INF_DIR}/180928_cells.csv\", \"w+\") as f:\n",
    "    f.write(\"\\n\".join(files))"
   ]
  },
  {
   "cell_type": "code",
   "execution_count": 9,
   "metadata": {},
   "outputs": [],
   "source": [
    "import os\n",
    "cell_id = lambda f : int(os.path.basename(f.split(\".\")[0]))"
   ]
  },
  {
   "cell_type": "code",
   "execution_count": 10,
   "metadata": {},
   "outputs": [],
   "source": [
    "output_fname = lambda f: f\"{INF_DIR}/{cell_id(f)}.h5\""
   ]
  },
  {
   "cell_type": "code",
   "execution_count": 11,
   "metadata": {},
   "outputs": [
    {
     "data": {
      "text/plain": [
       "'/usr/people/nturner/seungmount/research/nick_and_sven/models_nick/p100_dend_outer/inference/546254140358.h5'"
      ]
     },
     "execution_count": 11,
     "metadata": {},
     "output_type": "execute_result"
    }
   ],
   "source": [
    "output_fname(files[0])"
   ]
  },
  {
   "cell_type": "code",
   "execution_count": 12,
   "metadata": {},
   "outputs": [],
   "source": [
    "import h5py"
   ]
  },
  {
   "cell_type": "code",
   "execution_count": 13,
   "metadata": {},
   "outputs": [],
   "source": [
    "def write_h5(vectors, centers, fname):\n",
    "    with h5py.File(fname) as f:\n",
    "        f.create_dataset(\"vertices\", data=vectors)\n",
    "        f.create_dataset(\"centers\", data=centers)"
   ]
  },
  {
   "cell_type": "markdown",
   "metadata": {},
   "source": [
    "# Running inference"
   ]
  },
  {
   "cell_type": "code",
   "execution_count": 14,
   "metadata": {},
   "outputs": [],
   "source": [
    "meshes = list(meshmeta.mesh(f) for f in files)"
   ]
  },
  {
   "cell_type": "code",
   "execution_count": 15,
   "metadata": {},
   "outputs": [],
   "source": [
    "all_vecs, all_center_inds = ne.pred.encode_meshs_by_views(model, meshes, 1000, pc_align=True, order=\"sequential\")"
   ]
  },
  {
   "cell_type": "code",
   "execution_count": 17,
   "metadata": {},
   "outputs": [],
   "source": [
    "for (f, v, c, m) in zip(files, all_vecs, all_center_inds, meshes):\n",
    "    cs = m.vertices[c,:]\n",
    "    write_h5(v, cs, output_fname(f))"
   ]
  }
 ],
 "metadata": {
  "kernelspec": {
   "display_name": "Python 3",
   "language": "python",
   "name": "python3"
  },
  "language_info": {
   "codemirror_mode": {
    "name": "ipython",
    "version": 3
   },
   "file_extension": ".py",
   "mimetype": "text/x-python",
   "name": "python",
   "nbconvert_exporter": "python",
   "pygments_lexer": "ipython3",
   "version": "3.6.6"
  }
 },
 "nbformat": 4,
 "nbformat_minor": 2
}
