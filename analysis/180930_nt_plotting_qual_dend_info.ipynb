{
 "cells": [
  {
   "cell_type": "code",
   "execution_count": 17,
   "metadata": {},
   "outputs": [],
   "source": [
    "import numpy as np\n",
    "import matplotlib.pyplot as plt\n",
    "import os\n",
    "import h5py\n",
    "import pandas as pd"
   ]
  },
  {
   "cell_type": "markdown",
   "metadata": {},
   "source": [
    "# Reading data"
   ]
  },
  {
   "cell_type": "code",
   "execution_count": 3,
   "metadata": {},
   "outputs": [],
   "source": [
    "def read_fnames(fname):\n",
    "    with open(fname) as f:\n",
    "        fnames = [l.strip() for l in f.readlines()]\n",
    "        \n",
    "    return fnames\n",
    "\n",
    "cell_id = lambda f: int(os.path.basename(f).split(\".\")[0])\n",
    "cell_ids = list(map(cell_id, read_fnames(\"aux_data/180928_cells.csv\")))"
   ]
  },
  {
   "cell_type": "code",
   "execution_count": 6,
   "metadata": {},
   "outputs": [],
   "source": [
    "INF_DIR = \"/usr/people/nturner/seungmount/research/nick_and_sven/models_nick/p100_dend_outer/inference\""
   ]
  },
  {
   "cell_type": "code",
   "execution_count": 16,
   "metadata": {},
   "outputs": [],
   "source": [
    "# Features\n",
    "def read_features(fname):\n",
    "    assert os.path.isfile(fname)\n",
    "    with h5py.File(fname) as f:\n",
    "        return f[\"features\"].value"
   ]
  },
  {
   "cell_type": "code",
   "execution_count": 11,
   "metadata": {},
   "outputs": [],
   "source": [
    "fs_list = list(read_features(f\"{INF_DIR}/{i}_pca_features.h5\") for i in cell_ids)"
   ]
  },
  {
   "cell_type": "code",
   "execution_count": 15,
   "metadata": {},
   "outputs": [],
   "source": [
    "fs = np.vstack(fs_list)"
   ]
  },
  {
   "cell_type": "code",
   "execution_count": 26,
   "metadata": {},
   "outputs": [
    {
     "data": {
      "text/html": [
       "<div>\n",
       "<table border=\"1\" class=\"dataframe\">\n",
       "  <thead>\n",
       "    <tr style=\"text-align: right;\">\n",
       "      <th></th>\n",
       "      <th>spiny (1-5)</th>\n",
       "      <th>major axis x (basal)</th>\n",
       "      <th>major axis y (apical)</th>\n",
       "      <th>major axis z (basal)</th>\n",
       "      <th>length (1-5)</th>\n",
       "      <th>soma</th>\n",
       "      <th>branched</th>\n",
       "    </tr>\n",
       "  </thead>\n",
       "  <tbody>\n",
       "    <tr>\n",
       "      <th>546254140358</th>\n",
       "      <td>3</td>\n",
       "      <td>1</td>\n",
       "      <td>0</td>\n",
       "      <td>1</td>\n",
       "      <td>3</td>\n",
       "      <td>0</td>\n",
       "      <td>0</td>\n",
       "    </tr>\n",
       "    <tr>\n",
       "      <th>1067765194641</th>\n",
       "      <td>4</td>\n",
       "      <td>0</td>\n",
       "      <td>0</td>\n",
       "      <td>1</td>\n",
       "      <td>1</td>\n",
       "      <td>0</td>\n",
       "      <td>0</td>\n",
       "    </tr>\n",
       "    <tr>\n",
       "      <th>2309937727136</th>\n",
       "      <td>4</td>\n",
       "      <td>1</td>\n",
       "      <td>0</td>\n",
       "      <td>1</td>\n",
       "      <td>1</td>\n",
       "      <td>0</td>\n",
       "      <td>0</td>\n",
       "    </tr>\n",
       "    <tr>\n",
       "      <th>442151416423</th>\n",
       "      <td>2</td>\n",
       "      <td>0</td>\n",
       "      <td>1</td>\n",
       "      <td>0</td>\n",
       "      <td>1</td>\n",
       "      <td>0</td>\n",
       "      <td>0</td>\n",
       "    </tr>\n",
       "    <tr>\n",
       "      <th>1993494634805</th>\n",
       "      <td>3</td>\n",
       "      <td>1</td>\n",
       "      <td>0</td>\n",
       "      <td>1</td>\n",
       "      <td>1</td>\n",
       "      <td>0</td>\n",
       "      <td>0</td>\n",
       "    </tr>\n",
       "  </tbody>\n",
       "</table>\n",
       "</div>"
      ],
      "text/plain": [
       "               spiny (1-5)  major axis x (basal)  major axis y (apical)  \\\n",
       "546254140358             3                     1                      0   \n",
       "1067765194641            4                     0                      0   \n",
       "2309937727136            4                     1                      0   \n",
       "442151416423             2                     0                      1   \n",
       "1993494634805            3                     1                      0   \n",
       "\n",
       "               major axis z (basal)  length (1-5)  soma  branched  \n",
       "546254140358                      1             3     0         0  \n",
       "1067765194641                     1             1     0         0  \n",
       "2309937727136                     1             1     0         0  \n",
       "442151416423                      0             1     0         0  \n",
       "1993494634805                     1             1     0         0  "
      ]
     },
     "execution_count": 26,
     "metadata": {},
     "output_type": "execute_result"
    }
   ],
   "source": [
    "# Qualitative observations\n",
    "notes_df = pd.read_csv(\"aux_data/180930_dendrite_notes.csv\", index_col=0)\n",
    "notes_df.head()"
   ]
  },
  {
   "cell_type": "markdown",
   "metadata": {},
   "source": [
    "# Plotting"
   ]
  },
  {
   "cell_type": "code",
   "execution_count": 22,
   "metadata": {},
   "outputs": [],
   "source": [
    "cm = plt.get_cmap('tab10')\n",
    "colors = [cm(.05 + .1 * i) for i in range(10)]"
   ]
  },
  {
   "cell_type": "code",
   "execution_count": 23,
   "metadata": {},
   "outputs": [],
   "source": [
    "def plot_variable(xy, labels=None, x_label=\"PC 1\", y_label=\"PC 2\"):\n",
    "    \n",
    "    if labels is None:\n",
    "        labels = np.ones((xy.shape[0],), dtype=np.uint8)\n",
    "    \n",
    "    u_labels = np.unique(labels)\n",
    "    \n",
    "    plt.figure(figsize=(10,10))\n",
    "    \n",
    "    for i_label, u_label in enumerate(u_labels):\n",
    "        l = labels == u_label\n",
    "        plt.scatter(xy[l,0], xy[l,1], alpha=0.7, c=colors[i_label])\n",
    "    \n",
    "    plt.xlabel(x_label)\n",
    "    plt.ylabel(y_label)\n",
    "    \n",
    "    plt.show()"
   ]
  },
  {
   "cell_type": "code",
   "execution_count": 27,
   "metadata": {},
   "outputs": [],
   "source": [
    "obs_inds = [cell_ids.index(i) for i in notes_df.index]"
   ]
  },
  {
   "cell_type": "code",
   "execution_count": 30,
   "metadata": {},
   "outputs": [],
   "source": [
    "def make_labels(col, inds, total_n=300):\n",
    "    label_col = np.zeros((total_n,), dtype=np.uint8)\n",
    "    \n",
    "    label_col[inds] = col + 1\n",
    "    return label_col"
   ]
  },
  {
   "cell_type": "code",
   "execution_count": 31,
   "metadata": {},
   "outputs": [
    {
     "data": {
      "text/plain": [
       "array([4, 5, 5, 3, 4, 2, 5, 6, 6, 2, 5, 5, 4, 4, 4, 5, 4, 5, 4, 4, 4, 5,\n",
       "       4, 5, 5, 4, 5, 3, 2, 4, 5, 5, 5, 5, 5, 4, 4, 6, 5, 5, 0, 0, 0, 0,\n",
       "       0, 0, 0, 0, 0, 0], dtype=uint8)"
      ]
     },
     "execution_count": 31,
     "metadata": {},
     "output_type": "execute_result"
    }
   ],
   "source": [
    "make_labels(notes_df[\"spiny (1-5)\"], obs_inds, total_n=50)"
   ]
  },
  {
   "cell_type": "code",
   "execution_count": 38,
   "metadata": {},
   "outputs": [
    {
     "data": {
      "image/png": "[encoded data removed]",
      "text/plain": [
       "<matplotlib.figure.Figure at 0x7fbc3f6646a0>"
      ]
     },
     "metadata": {},
     "output_type": "display_data"
    }
   ],
   "source": [
    "lbls = make_labels(notes_df[\"spiny (1-5)\"], obs_inds)\n",
    "plot_variable(fs[:,:2], lbls)"
   ]
  },
  {
   "cell_type": "code",
   "execution_count": 34,
   "metadata": {},
   "outputs": [
    {
     "data": {
      "image/png": "[encoded data removed]",
      "text/plain": [
       "<matplotlib.figure.Figure at 0x7fbc3fd25cc0>"
      ]
     },
     "metadata": {},
     "output_type": "display_data"
    }
   ],
   "source": [
    "lbls = make_labels(notes_df[\"length (1-5)\"], obs_inds)\n",
    "plot_variable(fs[:,:2], lbls)"
   ]
  },
  {
   "cell_type": "code",
   "execution_count": 39,
   "metadata": {},
   "outputs": [],
   "source": [
    "notes_df.basal = notes_df[\"major axis x (basal)\"] | notes_df[\"major axis z (basal)\"]"
   ]
  },
  {
   "cell_type": "code",
   "execution_count": 42,
   "metadata": {},
   "outputs": [
    {
     "data": {
      "image/png": "[encoded data removed]",
      "text/plain": [
       "<matplotlib.figure.Figure at 0x7fbc3f3309b0>"
      ]
     },
     "metadata": {},
     "output_type": "display_data"
    }
   ],
   "source": [
    "lbls = make_labels(notes_df.basal, obs_inds)\n",
    "plot_variable(fs[:,:2], lbls)"
   ]
  },
  {
   "cell_type": "markdown",
   "metadata": {},
   "source": [
    "# Try going the other way - pick meshes with extreme values and visualize"
   ]
  },
  {
   "cell_type": "code",
   "execution_count": 53,
   "metadata": {},
   "outputs": [],
   "source": [
    "pc1_argsort = np.argsort(fs[:,0])\n",
    "pc2_argsort = np.argsort(fs[:,1])\n",
    "pc3_argsort = np.argsort(fs[:,2])\n",
    "pc4_argsort = np.argsort(fs[:,3])"
   ]
  },
  {
   "cell_type": "code",
   "execution_count": 44,
   "metadata": {},
   "outputs": [],
   "source": [
    "ids = np.array(cell_ids)"
   ]
  },
  {
   "cell_type": "markdown",
   "metadata": {},
   "source": [
    "# PC1"
   ]
  },
  {
   "cell_type": "code",
   "execution_count": 49,
   "metadata": {},
   "outputs": [],
   "source": [
    "with viewer.txn() as state:\n",
    "    state.layers[\"seg\"].layer.segments = list(ids[pc1_argsort[:20]])"
   ]
  },
  {
   "cell_type": "markdown",
   "metadata": {},
   "source": [
    "No clear feature here..."
   ]
  },
  {
   "cell_type": "markdown",
   "metadata": {},
   "source": [
    "![low_pc1](aux_data/180930_low_pc1.png)"
   ]
  },
  {
   "cell_type": "code",
   "execution_count": 49,
   "metadata": {},
   "outputs": [],
   "source": [
    "with viewer.txn() as state:\n",
    "    state.layers[\"seg\"].layer.segments = list(ids[pc1_argsort[-20:]])"
   ]
  },
  {
   "cell_type": "markdown",
   "metadata": {},
   "source": [
    "A different region of space, and usually very spiny, but not always"
   ]
  },
  {
   "cell_type": "markdown",
   "metadata": {},
   "source": [
    "![high_pc1](aux_data/180930_high_pc1.png)"
   ]
  },
  {
   "cell_type": "markdown",
   "metadata": {},
   "source": [
    "# PC2"
   ]
  },
  {
   "cell_type": "code",
   "execution_count": 49,
   "metadata": {},
   "outputs": [],
   "source": [
    "with viewer.txn() as state:\n",
    "    state.layers[\"seg\"].layer.segments = list(ids[pc2_argsort[:20]])"
   ]
  },
  {
   "cell_type": "markdown",
   "metadata": {},
   "source": [
    "Confined to another corner and pretty spiny. A couple apicals"
   ]
  },
  {
   "cell_type": "markdown",
   "metadata": {},
   "source": [
    "![low_pc2](aux_data/180930_low_pc2.png)"
   ]
  },
  {
   "cell_type": "code",
   "execution_count": 49,
   "metadata": {},
   "outputs": [],
   "source": [
    "with viewer.txn() as state:\n",
    "    state.layers[\"seg\"].layer.segments = list(ids[pc2_argsort[-20:]])"
   ]
  },
  {
   "cell_type": "markdown",
   "metadata": {},
   "source": [
    "Opposite corner and medium spiny?"
   ]
  },
  {
   "cell_type": "markdown",
   "metadata": {},
   "source": [
    "![high_pc2](aux_data/180930_high_pc2.png)"
   ]
  },
  {
   "cell_type": "markdown",
   "metadata": {},
   "source": [
    "# PC3"
   ]
  },
  {
   "cell_type": "code",
   "execution_count": 49,
   "metadata": {},
   "outputs": [],
   "source": [
    "with viewer.txn() as state:\n",
    "    state.layers[\"seg\"].layer.segments = list(ids[pc3_argsort[:20]])"
   ]
  },
  {
   "cell_type": "markdown",
   "metadata": {},
   "source": [
    "Another corner... seems like the only real pattern so far"
   ]
  },
  {
   "cell_type": "markdown",
   "metadata": {},
   "source": [
    "![low_pc3](aux_data/180930_low_pc3.png)"
   ]
  },
  {
   "cell_type": "code",
   "execution_count": 49,
   "metadata": {},
   "outputs": [],
   "source": [
    "with viewer.txn() as state:\n",
    "    state.layers[\"seg\"].layer.segments = list(ids[pc3_argsort[-20:]])"
   ]
  },
  {
   "cell_type": "markdown",
   "metadata": {},
   "source": [
    "Opposite corner again..."
   ]
  },
  {
   "cell_type": "markdown",
   "metadata": {},
   "source": [
    "![high_pc3](aux_data/180930_high_pc3.png)"
   ]
  }
 ],
 "metadata": {
  "kernelspec": {
   "display_name": "Python 3",
   "language": "python",
   "name": "python3"
  },
  "language_info": {
   "codemirror_mode": {
    "name": "ipython",
    "version": 3
   },
   "file_extension": ".py",
   "mimetype": "text/x-python",
   "name": "python",
   "nbconvert_exporter": "python",
   "pygments_lexer": "ipython3",
   "version": "3.6.3"
  }
 },
 "nbformat": 4,
 "nbformat_minor": 2
}
