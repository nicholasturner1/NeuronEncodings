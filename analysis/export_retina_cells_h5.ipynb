{
 "cells": [
  {
   "cell_type": "markdown",
   "metadata": {},
   "source": [
    "# Exports retina ply cells to h5 format\n",
    "\n",
    "The retina cell ply files are stored `seungmount/research/nkem/share/e2198_meshes/` and the cell type classifications can be found in `/home/svenmd/Downloads/classification.csv`. The This jupyter notebook reads each cell and stores it as `h5` files.\n",
    "\n",
    "Classifications are only available for <400 of the ~1000 cells. Cells with and without label are stored in separate folder (`.../*labeled*/`, `.../*unlabeled*/`). Labels are stored under `str_label` (actual label) and `int_label` (mapping to contrinuous integer space (0-max))."
   ]
  },
  {
   "cell_type": "markdown",
   "metadata": {},
   "source": [
    "### Preperations"
   ]
  },
  {
   "cell_type": "code",
   "execution_count": 47,
   "metadata": {},
   "outputs": [],
   "source": [
    "import csv\n",
    "import h5py\n",
    "import glob\n",
    "import numpy as np\n",
    "import os\n",
    "import plyfile\n",
    "import pandas as pd\n",
    "import re\n",
    "import time\n",
    "\n",
    "HOME = os.path.expanduser(\"~\")"
   ]
  },
  {
   "cell_type": "markdown",
   "metadata": {},
   "source": [
    "Defining paths:"
   ]
  },
  {
   "cell_type": "code",
   "execution_count": 10,
   "metadata": {
    "collapsed": true
   },
   "outputs": [],
   "source": [
    "ply_folder = HOME + \"/seungmount/research/nkem/share/e2198_meshes/\"\n",
    "\n",
    "ply_paths = glob.glob(ply_folder + \"/*.ply\")\n",
    "class_path = HOME + \"/seungmount/research/nkem/share/e2198_meshes/classification.csv\""
   ]
  },
  {
   "cell_type": "markdown",
   "metadata": {},
   "source": [
    "Reading the classifications:"
   ]
  },
  {
   "cell_type": "code",
   "execution_count": 19,
   "metadata": {},
   "outputs": [],
   "source": [
    "clf_table = pd.read_csv(class_path, index_col=1, header=None)"
   ]
  },
  {
   "cell_type": "code",
   "execution_count": 27,
   "metadata": {},
   "outputs": [],
   "source": [
    "reader = csv.reader(open(class_path, 'r'))\n",
    "cell_type_dict = {}\n",
    "for row in reader:\n",
    "    cell_type, cell_id = row\n",
    "    cell_type_dict[int(cell_id)] = cell_type"
   ]
  },
  {
   "cell_type": "code",
   "execution_count": 35,
   "metadata": {},
   "outputs": [],
   "source": [
    "u_cell_types = np.unique(list(cell_type_dict.values()))\n",
    "cell_type_mapping = dict(zip(u_cell_types, range(len(u_cell_types))))"
   ]
  },
  {
   "cell_type": "markdown",
   "metadata": {},
   "source": [
    "### Read plys and write h5s\n",
    "This takes some time (~10h)"
   ]
  },
  {
   "cell_type": "code",
   "execution_count": 38,
   "metadata": {
    "collapsed": true
   },
   "outputs": [],
   "source": [
    "def read_ply(path):\n",
    "    m = plyfile.PlyData.read(path)\n",
    "\n",
    "    vertices = m[\"vertex\"].data.view(np.float32).reshape(-1, 3)\n",
    "    faces = np.array(list(m[\"face\"].data['vertex_indices']))\n",
    "    \n",
    "    return vertices, faces"
   ]
  },
  {
   "cell_type": "code",
   "execution_count": null,
   "metadata": {},
   "outputs": [
    {
     "name": "stdout",
     "output_type": "stream",
     "text": [
      "7 / 1041 - dt = 387.652s - eta = 57261.667s\r"
     ]
    }
   ],
   "source": [
    "time_start = time.time()\n",
    "for i_cell_path, ply_path in enumerate(ply_paths):        \n",
    "    \n",
    "    if i_cell_path > 0:\n",
    "        dt = time.time() - time_start\n",
    "        eta = dt / i_cell_path * len(ply_paths) - dt\n",
    "        print(\"%d / %d - dt = %.3fs - eta = %.3fs\" % (i_cell_path, len(ply_paths), dt, eta), end='\\r')\n",
    "\n",
    "    vertices, faces = read_ply(ply_path)\n",
    "    cell_id = int(re.findall(\"[\\d]+\", ply_path)[-1])\n",
    "    \n",
    "    if cell_id in cell_type_dict:\n",
    "        str_label = cell_type_dict[cell_id]\n",
    "        int_label = cell_type_mapping[str_label]\n",
    "    \n",
    "        with h5py.File(\"/usr/people/svenmd/seungmount/research/nick_and_sven/data/e2198_labeled_180619/%d_vertex_gt.h5\" % cell_id, \"w\") as f:\n",
    "            f.create_dataset(\"int_label\", data=[int_label], compression=\"gzip\")\n",
    "            f.create_dataset(\"str_label\", data=[str_label.encode('utf8')], compression=\"gzip\")\n",
    "            f.create_dataset(\"vertices\", data=vertices, compression=\"gzip\")\n",
    "            f.create_dataset(\"faces\", data=faces, compression=\"gzip\")\n",
    "            f.create_dataset(\"cell_id\", data=[cell_id], compression=\"gzip\")\n",
    "    else:\n",
    "        with h5py.File(\"/usr/people/svenmd/seungmount/research/nick_and_sven/data/e2198_unlabeled_180619/%d_vertex_gt.h5\" % cell_id, \"w\") as f:\n",
    "            f.create_dataset(\"vertices\", data=vertices, compression=\"gzip\")\n",
    "            f.create_dataset(\"faces\", data=faces, compression=\"gzip\")\n",
    "            f.create_dataset(\"cell_id\", data=[cell_id], compression=\"gzip\")"
   ]
  }
 ],
 "metadata": {
  "kernelspec": {
   "display_name": "Python 3",
   "language": "python",
   "name": "python3"
  },
  "language_info": {
   "codemirror_mode": {
    "name": "ipython",
    "version": 3
   },
   "file_extension": ".py",
   "mimetype": "text/x-python",
   "name": "python",
   "nbconvert_exporter": "python",
   "pygments_lexer": "ipython3",
   "version": "3.4.3"
  }
 },
 "nbformat": 4,
 "nbformat_minor": 2
}
