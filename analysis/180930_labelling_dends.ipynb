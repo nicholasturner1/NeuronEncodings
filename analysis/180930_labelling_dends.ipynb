{
 "cells": [
  {
   "cell_type": "markdown",
   "metadata": {},
   "source": [
    "# Reading cell ids"
   ]
  },
  {
   "cell_type": "code",
   "execution_count": 1,
   "metadata": {},
   "outputs": [],
   "source": [
    "import os"
   ]
  },
  {
   "cell_type": "code",
   "execution_count": 2,
   "metadata": {},
   "outputs": [],
   "source": [
    "def read_fnames(fname):\n",
    "    with open(fname) as f:\n",
    "        fnames = list(l.strip() for l in f.readlines())\n",
    "        \n",
    "    return fnames"
   ]
  },
  {
   "cell_type": "code",
   "execution_count": 3,
   "metadata": {},
   "outputs": [],
   "source": [
    "fnames = read_fnames(\"180928_cells.csv\")"
   ]
  },
  {
   "cell_type": "code",
   "execution_count": 4,
   "metadata": {},
   "outputs": [
    {
     "data": {
      "text/plain": [
       "'/usr/people/nturner/seungmount/research/nick_and_sven/data/180920_orphan_dends/546254140358.obj'"
      ]
     },
     "execution_count": 4,
     "metadata": {},
     "output_type": "execute_result"
    }
   ],
   "source": [
    "fnames[0]"
   ]
  },
  {
   "cell_type": "code",
   "execution_count": 5,
   "metadata": {},
   "outputs": [],
   "source": [
    "cell_id = lambda f: int(os.path.basename(f).split(\".\")[0])\n",
    "cell_ids = list(map(cell_id, fnames))"
   ]
  },
  {
   "cell_type": "code",
   "execution_count": 6,
   "metadata": {},
   "outputs": [
    {
     "data": {
      "text/plain": [
       "[546254140358,\n",
       " 1067765194641,\n",
       " 2309937727136,\n",
       " 442151416423,\n",
       " 1993494634805,\n",
       " 2249686519243,\n",
       " 674600320106,\n",
       " 1868571312148,\n",
       " 448925138076,\n",
       " 1682470727395,\n",
       " 665615555955,\n",
       " 2226940681536,\n",
       " 1938805296301,\n",
       " 1971319010278,\n",
       " 380545372853,\n",
       " 1527385809348,\n",
       " 528856312358,\n",
       " 857991465747,\n",
       " 1882261172731,\n",
       " 1767677517371]"
      ]
     },
     "execution_count": 6,
     "metadata": {},
     "output_type": "execute_result"
    }
   ],
   "source": [
    "cell_ids[:20]"
   ]
  },
  {
   "cell_type": "markdown",
   "metadata": {},
   "source": [
    "# Setting up ngl"
   ]
  },
  {
   "cell_type": "code",
   "execution_count": 7,
   "metadata": {},
   "outputs": [],
   "source": [
    "import neuroglancer as ngl"
   ]
  },
  {
   "cell_type": "code",
   "execution_count": 8,
   "metadata": {},
   "outputs": [
    {
     "data": {
      "text/html": [
       "<a href=\"http://127.0.0.1:40291/v/b6266b8d4a872b0d6094d35fe26624a994bd38f4/\" target=\"_blank\">Viewer</a>"
      ],
      "text/plain": [
       "http://127.0.0.1:40291/v/b6266b8d4a872b0d6094d35fe26624a994bd38f4/"
      ]
     },
     "execution_count": 8,
     "metadata": {},
     "output_type": "execute_result"
    }
   ],
   "source": [
    "ngl.set_static_content_source(url=\"http://neuromancer-seung-import.appspot.com\")\n",
    "viewer = ngl.Viewer()\n",
    "viewer"
   ]
  },
  {
   "cell_type": "code",
   "execution_count": 9,
   "metadata": {},
   "outputs": [],
   "source": [
    "img_src = \"precomputed://gs://neuroglancer/pinky100_v0/son_of_alignment_v15_rechunked\"\n",
    "seg_src = \"precomputed://gs://neuroglancer/pinky100_v0/seg/lost_no-random/bbox1_0\"\n",
    "\n",
    "with viewer.txn() as state:\n",
    "    \n",
    "    state.layers[\"image\"] = ngl.ImageLayer(source=img_src)\n",
    "    state.layers[\"seg\"] = ngl.SegmentationLayer(source=seg_src)"
   ]
  },
  {
   "cell_type": "code",
   "execution_count": 10,
   "metadata": {},
   "outputs": [],
   "source": [
    "with viewer.txn() as state:\n",
    "    \n",
    "    state.layers[\"seg\"].layer.segments = cell_ids"
   ]
  },
  {
   "cell_type": "code",
   "execution_count": 13,
   "metadata": {},
   "outputs": [],
   "source": [
    "i = 0"
   ]
  },
  {
   "cell_type": "code",
   "execution_count": 14,
   "metadata": {},
   "outputs": [],
   "source": [
    "def display_cell_i(i):\n",
    "    with viewer.txn() as state:\n",
    "        state.layers[\"seg\"].layer.segments = [cell_ids[i]]"
   ]
  },
  {
   "cell_type": "code",
   "execution_count": 58,
   "metadata": {},
   "outputs": [
    {
     "name": "stdout",
     "output_type": "stream",
     "text": [
      "39\n"
     ]
    }
   ],
   "source": [
    "print(i)\n",
    "display_cell_i(i)\n",
    "i += 1"
   ]
  }
 ],
 "metadata": {
  "kernelspec": {
   "display_name": "Python 3",
   "language": "python",
   "name": "python3"
  },
  "language_info": {
   "codemirror_mode": {
    "name": "ipython",
    "version": 3
   },
   "file_extension": ".py",
   "mimetype": "text/x-python",
   "name": "python",
   "nbconvert_exporter": "python",
   "pygments_lexer": "ipython3",
   "version": "3.6.5"
  }
 },
 "nbformat": 4,
 "nbformat_minor": 2
}
