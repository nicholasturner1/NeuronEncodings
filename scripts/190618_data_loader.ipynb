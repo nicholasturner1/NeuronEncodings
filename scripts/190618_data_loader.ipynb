{
 "cells": [
  {
   "cell_type": "markdown",
   "metadata": {},
   "source": [
    "# Data loader design"
   ]
  },
  {
   "cell_type": "code",
   "execution_count": 1,
   "metadata": {},
   "outputs": [],
   "source": [
    "import numpy as np\n",
    "import os\n",
    "\n",
    "from meshparty import trimesh_io\n",
    "from neuronencodings.data import transform, cell_dataset, Phase\n",
    "\n",
    "import ipyvolume.pylab as p3\n",
    "import ipyvolume as ipv\n",
    "\n",
    "import torch\n",
    "import torch.utils\n",
    "\n",
    "HOME = os.path.expanduser(\"~\")"
   ]
  },
  {
   "cell_type": "markdown",
   "metadata": {},
   "source": [
    "## Data Viz"
   ]
  },
  {
   "cell_type": "code",
   "execution_count": 2,
   "metadata": {},
   "outputs": [],
   "source": [
    "def random_color():\n",
    "    return np.random.rand(3)\n",
    "\n",
    "def visualize_points(ps):   \n",
    "    fig = p3.figure(width=1024, height=1024)\n",
    "\n",
    "    for ps_i in ps:\n",
    "        X, Y, Z = np.array(ps_i.T*1000)\n",
    "        ipv.scatter(X, Y, Z, marker='sphere', color=random_color(), size=1)\n",
    "\n",
    "    ipv.squarelim()\n",
    "    ipv.show()"
   ]
  },
  {
   "cell_type": "markdown",
   "metadata": {},
   "source": [
    "## Data loading "
   ]
  },
  {
   "cell_type": "code",
   "execution_count": 3,
   "metadata": {},
   "outputs": [],
   "source": [
    "cv_path = \"graphene://https://www.dynamicannotationframework.com/segmentation/1.0/pinky100_sv16\"\n",
    "disk_cache_path = f\"{HOME}/.meshcache/\""
   ]
  },
  {
   "cell_type": "code",
   "execution_count": 4,
   "metadata": {},
   "outputs": [],
   "source": [
    "meshmeta = trimesh_io.MeshMeta(cv_path=cv_path, disk_cache_path=disk_cache_path)"
   ]
  },
  {
   "cell_type": "code",
   "execution_count": 5,
   "metadata": {},
   "outputs": [],
   "source": [
    "ids = [648518346342073945,648518346342317292,648518346349496323,648518346341408751,648518346349508876]"
   ]
  },
  {
   "cell_type": "code",
   "execution_count": 6,
   "metadata": {},
   "outputs": [
    {
     "name": "stderr",
     "output_type": "stream",
     "text": [
      "/home/svenmd/anaconda3/lib/python3.6/site-packages/h5py/_hl/dataset.py:313: H5pyDeprecationWarning: dataset.value has been deprecated. Use dataset[()] instead.\n",
      "  \"Use dataset[()] instead.\", H5pyDeprecationWarning)\n"
     ]
    }
   ],
   "source": [
    "mesh = meshmeta.mesh(seg_id=ids[0])"
   ]
  },
  {
   "cell_type": "code",
   "execution_count": 7,
   "metadata": {},
   "outputs": [],
   "source": [
    "def get_block(mesh, n_points=750, sample_n_points=2000, n_views=1):\n",
    "    vertex_list = []\n",
    "    center_vertex_ids = []\n",
    "    for i_view in range(n_views):\n",
    "        vertices, v_id = mesh.get_local_view(n_points, pc_align=True, pc_norm=False,\n",
    "                                             sample_n_points=sample_n_points)\n",
    "        vertex_list.append(vertices.squeeze())\n",
    "        center_vertex_ids.append(v_id[0])\n",
    "    return np.array(vertex_list), np.array(center_vertex_ids)"
   ]
  },
  {
   "cell_type": "code",
   "execution_count": 8,
   "metadata": {},
   "outputs": [
    {
     "data": {
      "application/vnd.jupyter.widget-view+json": {
       "model_id": "14aaa382deb84748a384e2494fcaf029",
       "version_major": 2,
       "version_minor": 0
      },
      "text/plain": [
       "VBox(children=(Figure(camera=PerspectiveCamera(fov=46.0, position=(0.0, 0.0, 2.0), quaternion=(0.0, 0.0, 0.0, …"
      ]
     },
     "metadata": {},
     "output_type": "display_data"
    },
    {
     "data": {
      "text/plain": [
       "TrackedArray([[83401.953125 , 73733.4609375,   432.0378418]])"
      ]
     },
     "execution_count": 8,
     "metadata": {},
     "output_type": "execute_result"
    }
   ],
   "source": [
    "vl, cvl = get_block(mesh)\n",
    "# visualize_points([mesh.vertices[::1000], mesh.vertices[cvl]])\n",
    "vl_n = transform.norm_to_unit_sphere_many(vl)\n",
    "visualize_points(vl_n)\n",
    "\n",
    "mesh.vertices[cvl] / np.array([4, 4, 40])"
   ]
  },
  {
   "cell_type": "markdown",
   "metadata": {},
   "source": [
    "## CellDataset"
   ]
  },
  {
   "cell_type": "code",
   "execution_count": 9,
   "metadata": {},
   "outputs": [],
   "source": [
    "train_dset = cell_dataset.CellDataset(gt_dirs=[disk_cache_path],\n",
    "                                      phase=Phase.FULL, \n",
    "                                      n_points=500,\n",
    "                                      n_views_per_batch=5,\n",
    "                                      sample_n_points=1500,\n",
    "                                      random_seed=0,\n",
    "                                      train_split=.8,\n",
    "                                      val_split=.1,\n",
    "                                      test_split=.1)"
   ]
  },
  {
   "cell_type": "code",
   "execution_count": 10,
   "metadata": {},
   "outputs": [],
   "source": [
    "train_loader = torch.utils.data.DataLoader(train_dset,\n",
    "                                           batch_size=2,\n",
    "                                           shuffle=True,\n",
    "                                           num_workers=4,\n",
    "                                           drop_last=True)"
   ]
  },
  {
   "cell_type": "code",
   "execution_count": 11,
   "metadata": {},
   "outputs": [
    {
     "name": "stderr",
     "output_type": "stream",
     "text": [
      "/home/svenmd/anaconda3/lib/python3.6/site-packages/h5py/_hl/dataset.py:313: H5pyDeprecationWarning: dataset.value has been deprecated. Use dataset[()] instead.\n",
      "  \"Use dataset[()] instead.\", H5pyDeprecationWarning)\n",
      "/home/svenmd/anaconda3/lib/python3.6/site-packages/h5py/_hl/dataset.py:313: H5pyDeprecationWarning: dataset.value has been deprecated. Use dataset[()] instead.\n",
      "  \"Use dataset[()] instead.\", H5pyDeprecationWarning)\n",
      "/home/svenmd/anaconda3/lib/python3.6/site-packages/h5py/_hl/dataset.py:313: H5pyDeprecationWarning: dataset.value has been deprecated. Use dataset[()] instead.\n",
      "  \"Use dataset[()] instead.\", H5pyDeprecationWarning)\n",
      "/home/svenmd/anaconda3/lib/python3.6/site-packages/h5py/_hl/dataset.py:313: H5pyDeprecationWarning: dataset.value has been deprecated. Use dataset[()] instead.\n",
      "  \"Use dataset[()] instead.\", H5pyDeprecationWarning)\n"
     ]
    },
    {
     "name": "stdout",
     "output_type": "stream",
     "text": [
      "0\n"
     ]
    }
   ],
   "source": [
    "for i_batch, d in enumerate(train_loader):\n",
    "    print(i_batch)\n",
    "    break"
   ]
  },
  {
   "cell_type": "code",
   "execution_count": 28,
   "metadata": {
    "scrolled": true
   },
   "outputs": [
    {
     "data": {
      "application/vnd.jupyter.widget-view+json": {
       "model_id": "95e9a80c10c744da950ca0bf0300cca9",
       "version_major": 2,
       "version_minor": 0
      },
      "text/plain": [
       "VBox(children=(Figure(camera=PerspectiveCamera(fov=46.0, position=(0.0, 0.0, 2.0), quaternion=(0.0, 0.0, 0.0, …"
      ]
     },
     "metadata": {},
     "output_type": "display_data"
    }
   ],
   "source": [
    "visualize_points(d.numpy()[1])"
   ]
  },
  {
   "cell_type": "code",
   "execution_count": 29,
   "metadata": {
    "scrolled": true
   },
   "outputs": [
    {
     "data": {
      "application/vnd.jupyter.widget-view+json": {
       "model_id": "12b00072a3cf46839f0c5846189b91ca",
       "version_major": 2,
       "version_minor": 0
      },
      "text/plain": [
       "VBox(children=(Figure(camera=PerspectiveCamera(fov=46.0, position=(0.0, 0.0, 2.0), quaternion=(0.0, 0.0, 0.0, …"
      ]
     },
     "metadata": {},
     "output_type": "display_data"
    }
   ],
   "source": [
    "visualize_points(d.reshape(-1, 500, 3).numpy()[5:])"
   ]
  }
 ],
 "metadata": {
  "kernelspec": {
   "display_name": "Python 3",
   "language": "python",
   "name": "python3"
  },
  "language_info": {
   "codemirror_mode": {
    "name": "ipython",
    "version": 3
   },
   "file_extension": ".py",
   "mimetype": "text/x-python",
   "name": "python",
   "nbconvert_exporter": "python",
   "pygments_lexer": "ipython3",
   "version": "3.6.8"
  }
 },
 "nbformat": 4,
 "nbformat_minor": 2
}
