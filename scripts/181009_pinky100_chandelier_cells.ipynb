{
 "cells": [
  {
   "cell_type": "markdown",
   "metadata": {},
   "source": [
    "# Discovery of chandelier cell growth cones"
   ]
  },
  {
   "cell_type": "code",
   "execution_count": 207,
   "metadata": {},
   "outputs": [],
   "source": [
    "import sys\n",
    "import os\n",
    "import numpy as np\n",
    "import pickle as pkl\n",
    "from sklearn import decomposition, ensemble, model_selection, cluster\n",
    "from matplotlib import pyplot as plt\n",
    "import pandas as pd \n",
    "import glob\n",
    "from meshparty import trimesh_io\n",
    "import h5py\n",
    "import re\n",
    "import itertools\n",
    "\n",
    "cwd = os.getcwd()\n",
    "cwd = cwd[: -(1 + len(cwd.split(\"/\")[-1]))] + \"/neuronencodings\"\n",
    "sys.path.append(cwd)\n",
    "\n",
    "HOME = os.path.expanduser(\"~\")\n",
    "\n",
    "import neuronencodings as ne"
   ]
  },
  {
   "cell_type": "code",
   "execution_count": 208,
   "metadata": {},
   "outputs": [],
   "source": [
    "meshmeta = trimesh_io.MeshMeta()"
   ]
  },
  {
   "cell_type": "markdown",
   "metadata": {},
   "source": [
    "## Load meshes"
   ]
  },
  {
   "cell_type": "code",
   "execution_count": 209,
   "metadata": {},
   "outputs": [],
   "source": [
    "mesh_dir = \"%s/seungmount/research/svenmd/InhAnalysis/meshes_Chandelier/\" % HOME\n",
    "mesh_files = glob.glob(mesh_dir + \"/*\")"
   ]
  },
  {
   "cell_type": "code",
   "execution_count": 210,
   "metadata": {},
   "outputs": [
    {
     "name": "stdout",
     "output_type": "stream",
     "text": [
      "10525\n",
      "5352\n",
      "57084\n",
      "43156\n",
      "72805\n",
      "23968\n",
      "16216\n",
      "53583\n",
      "3166\n",
      "12561\n",
      "11982\n",
      "8164\n",
      "82397\n",
      "25087\n",
      "7149\n",
      "3039\n",
      "9632\n",
      "3364\n",
      "25591\n",
      "23312\n",
      "37665\n",
      "1363\n",
      "11891\n",
      "53346\n",
      "11051\n",
      "5994\n",
      "38869\n",
      "1023\n",
      "91722\n",
      "1371\n",
      "12188\n",
      "5688\n",
      "8912\n",
      "16486\n",
      "3853\n",
      "26672\n",
      "48174\n",
      "14356\n",
      "32534\n",
      "31450\n",
      "64847\n",
      "3425\n",
      "4795\n",
      "65315\n",
      "6266\n",
      "6945\n",
      "8302\n",
      "59760\n",
      "43908\n",
      "12824\n",
      "65219\n",
      "6626\n",
      "26245\n",
      "4670\n",
      "4671\n",
      "14349\n",
      "15680\n",
      "16498\n",
      "14432\n",
      "27406\n",
      "9818\n",
      "49317\n",
      "2154\n",
      "8283\n",
      "3273\n",
      "5154\n",
      "12244\n",
      "11889\n",
      "48931\n",
      "11998\n",
      "78156\n",
      "5851\n",
      "6450\n",
      "11154\n",
      "32250\n",
      "25318\n",
      "7860\n",
      "23438\n",
      "4295\n",
      "9442\n",
      "2316\n",
      "84074\n",
      "10479\n",
      "3944\n",
      "12660\n",
      "22678\n",
      "89158\n",
      "3694\n",
      "4333\n",
      "58000\n",
      "7356\n",
      "13144\n",
      "17981\n",
      "8070\n",
      "24659\n",
      "14270\n",
      "25824\n",
      "29104\n",
      "4114\n",
      "63260\n",
      "44916\n",
      "12246\n",
      "6805\n",
      "36633\n",
      "60964\n",
      "1929\n",
      "6505\n",
      "17223\n",
      "68373\n",
      "68878\n",
      "35937\n",
      "52629\n",
      "11350\n",
      "12639\n",
      "2513\n",
      "1077\n",
      "4200\n",
      "65787\n",
      "18047\n",
      "48770\n",
      "20050\n",
      "40153\n",
      "3671\n",
      "11328\n",
      "54198\n",
      "8540\n",
      "30348\n",
      "50610\n",
      "22227\n",
      "6700\n",
      "29107\n",
      "19692\n",
      "17095\n",
      "92353\n",
      "6089\n",
      "4092\n",
      "29438\n",
      "4821\n",
      "7485\n",
      "34222\n",
      "4327\n",
      "33848\n",
      "22440\n",
      "22229\n",
      "28568\n",
      "3697\n",
      "22948\n",
      "29596\n",
      "10149\n",
      "7478\n",
      "19719\n",
      "69230\n",
      "2930\n",
      "65432\n",
      "36381\n",
      "11183\n",
      "2728\n",
      "24787\n",
      "3916\n",
      "31876\n",
      "60247\n",
      "32518\n",
      "31717\n",
      "8327\n",
      "34709\n",
      "10339\n",
      "12556\n",
      "8309\n",
      "6766\n",
      "11413\n",
      "4850\n",
      "21125\n",
      "10235\n",
      "2869\n",
      "29918\n",
      "29375\n",
      "29472\n",
      "7678\n",
      "33712\n",
      "46186\n",
      "4279\n",
      "6041\n",
      "45518\n",
      "66695\n",
      "7502\n",
      "7192\n",
      "8443\n",
      "23038\n",
      "93344\n",
      "4224\n",
      "13291\n",
      "6112\n",
      "34622\n",
      "2920\n",
      "27690\n",
      "5043\n",
      "11658\n",
      "5219\n",
      "38021\n",
      "12518\n",
      "38560\n",
      "23296\n",
      "34442\n",
      "8082\n",
      "11458\n",
      "2585\n",
      "10492\n",
      "11423\n",
      "28137\n",
      "4065\n"
     ]
    }
   ],
   "source": [
    "cell_meshes = {}\n",
    "\n",
    "for path in mesh_files:\n",
    "    cell_id = int(re.findall(\"[\\d]+\", os.path.basename(path))[0])\n",
    "    \n",
    "    mesh = meshmeta.mesh(path)\n",
    "    if len(mesh.vertices) >= 1000 and len(mesh.vertices) < 100000:\n",
    "        print(len(mesh.vertices))\n",
    "        cell_meshes[cell_id] = mesh"
   ]
  },
  {
   "cell_type": "code",
   "execution_count": 211,
   "metadata": {},
   "outputs": [],
   "source": [
    "meshes = list(cell_meshes.values())\n",
    "cell_ids = np.array(list(cell_meshes.keys()))"
   ]
  },
  {
   "cell_type": "markdown",
   "metadata": {},
   "source": [
    "## Load interesting locations"
   ]
  },
  {
   "cell_type": "code",
   "execution_count": 212,
   "metadata": {},
   "outputs": [],
   "source": [
    "pois = [[1108979055853, [69890.9453125, 54838.8828125, 996.9571533203125]], [1584500104278, [75022.375, 64504.5234375, 1610.593994140625]], [1584500104278, [75335.984375, 65065.421875, 1651.032470703125]], [1181850724185, [78250.1015625, 54076.08984375, 635.516845703125]], [1176074954357, [76088.0546875, 48486.78125, 1576.953857421875]], [1319536680537, [87069.6796875, 46405.23828125, 1592.8033447265625]], [1038103211178, [87933.3515625, 50646.80078125, 1625.3172607421875]], [1038103211178, [87959.9296875, 51400.9921875, 1654.3670654296875]], [1389271720426, [91283.359375, 52350.79296875, 711.7086181640625]], [573349317266, [88651.2890625, 53750.7265625, 1615.7994384765625]], [573349317266, [88543.4375, 53284.59375, 1615.7994384765625]], [2014742838723, [102381.3984375, 57303.16796875, 892.7685546875]], [2014742838723, [101922.4140625, 58047.44140625, 925.5048828125]], [2014742838723, [101769.3359375, 58788.171875, 941.7863159179688]], [2014742838723, [99689.484375, 43676.15625, 318.900390625]], [1441251077245, [90029.5859375, 57411.9765625, 1606.653564453125]], [1410163802105, [90565.25, 55367.1328125, 1582.2000732421875]], [1410163802105, [90384.375, 55746.96875, 1586.35546875]], [1441251077245, [90499.6171875, 55113.05859375, 1584.9373779296875]], [1441251077245, [90335.9765625, 55842.00390625, 1589.9373779296875]], [1982371020342, [81322.8515625, 51341.16015625, 126.96614837646484]], [1161528965440, [81257.5390625, 50663.6640625, 113.00162506103516]], [1161528965440, [81480.1796875, 49621.91015625, 64.06420135498047]], [1161528965440, [80737.671875, 50948.8203125, 250.8614959716797]], [1161528965440, [99814.609375, 45662.171875, 515.2481079101562]], [1161528965440, [99667.90625, 46550.3203125, 556.5179443359375]]]\n",
    "\n",
    "poi_seg_ids = np.array([poi[0] for poi in pois])\n",
    "pois_filtered = []\n",
    "\n",
    "for poi in pois:\n",
    "    if poi[0] in cell_ids:\n",
    "        pois_filtered.append(poi)"
   ]
  },
  {
   "cell_type": "code",
   "execution_count": 213,
   "metadata": {},
   "outputs": [
    {
     "data": {
      "text/plain": [
       "17"
      ]
     },
     "execution_count": 213,
     "metadata": {},
     "output_type": "execute_result"
    }
   ],
   "source": [
    "len(pois_filtered)"
   ]
  },
  {
   "cell_type": "code",
   "execution_count": 214,
   "metadata": {},
   "outputs": [],
   "source": [
    "poi_meshes = []\n",
    "\n",
    "for poi in pois_filtered:\n",
    "    mesh = cell_meshes[poi[0]]\n",
    "    center_coord = np.array(poi[1]) * np.array([4, 4, 40])\n",
    "    \n",
    "    offsets = itertools.product(range(-500, 600, 250), \n",
    "                                range(-500, 600, 250), \n",
    "                                range(-50, 60, 25))\n",
    "#     offsets = [[0, 0, 0]]\n",
    "    for offset in offsets:\n",
    "        this_center_coord = center_coord + np.array(offset)\n",
    "        local_verts = mesh.get_local_view(n_pts, center_coord=this_center_coord)\n",
    "        local_mesh = trimesh_io.Mesh(vertices=local_verts[0])\n",
    "        poi_meshes.append(local_mesh)"
   ]
  },
  {
   "cell_type": "markdown",
   "metadata": {},
   "source": [
    "## Load model"
   ]
  },
  {
   "cell_type": "code",
   "execution_count": 216,
   "metadata": {},
   "outputs": [],
   "source": [
    "n_pts = 1000\n",
    "chkpt_fname = \"%s/seungmount/research/nick_and_sven/models_sven/pinky100_chandelier_ae_1000_local_nomorm_v3/models/model_551000.chkpt\" % HOME\n",
    "model = ne.utils.load_autoencoder(\"PointNetAE\", n_pts=1000, bottle_fs=64, chkpt_fname=chkpt_fname, eval_=True, bn=False)"
   ]
  },
  {
   "cell_type": "markdown",
   "metadata": {},
   "source": [
    "## Prediction"
   ]
  },
  {
   "cell_type": "code",
   "execution_count": 217,
   "metadata": {},
   "outputs": [],
   "source": [
    "all_vecs, all_center_inds = ne.pred.encode_meshs_by_views(model, meshes, n_points=n_pts, pc_align=True, order=\"sequential\")"
   ]
  },
  {
   "cell_type": "code",
   "execution_count": 218,
   "metadata": {},
   "outputs": [],
   "source": [
    "vecs = []\n",
    "for vec in all_vecs:\n",
    "    vecs.extend(vec)"
   ]
  },
  {
   "cell_type": "code",
   "execution_count": 219,
   "metadata": {},
   "outputs": [],
   "source": [
    "poi_vecs, poi_center_inds = ne.pred.encode_meshs_by_views(model, poi_meshes, n_points=n_pts, pc_align=True, order=\"sequential\")"
   ]
  },
  {
   "cell_type": "markdown",
   "metadata": {},
   "source": [
    "## Latent vectors (full cell)"
   ]
  },
  {
   "cell_type": "code",
   "execution_count": 220,
   "metadata": {},
   "outputs": [],
   "source": [
    "def hist_1d(arr):\n",
    "    \"\"\" 1d histogram along axis for feature extraction \"\"\"\n",
    "    return np.histogram(arr / arr.max(), bins=np.linspace(0, 1, 11))[0]\n",
    "\n",
    "\n",
    "def feat_stats(arr):\n",
    "    \"\"\" Simple statistics \"\"\"\n",
    "    return np.concatenate([np.mean(arr, axis=0),\n",
    "                           np.median(arr, axis=0),\n",
    "                           np.var(arr, axis=0)])\n",
    "\n",
    "\n",
    "def combine_views(views, use_hist=False):\n",
    "    \"\"\" Simple statistics to combine views from same cell / entity \"\"\"\n",
    "    views = np.array(views).copy()\n",
    "\n",
    "    feats = feat_stats(views)\n",
    "\n",
    "    if use_hist:\n",
    "        hist = np.apply_along_axis(hist_1d, axis=1, arr=views)\n",
    "        feats = np.concatenate([feat_stats(hist), feats])\n",
    "\n",
    "    return feats\n",
    "\n",
    "def pca(features, ndims=10):\n",
    "    \"\"\" Applies PCA to features / views \"\"\"\n",
    "\n",
    "    features_n = features.copy()\n",
    "    std = np.std(features_n, axis=0)[None]\n",
    "    std[std == 0] = 1\n",
    "    features_n /= std\n",
    "    features_n -= np.nanmean(features_n, axis=0)[None]\n",
    "\n",
    "    pca = decomposition.PCA(n_components=ndims)\n",
    "    features_t = pca.fit_transform(features_n)\n",
    "\n",
    "    return features_t"
   ]
  },
  {
   "cell_type": "code",
   "execution_count": 221,
   "metadata": {},
   "outputs": [
    {
     "name": "stderr",
     "output_type": "stream",
     "text": [
      "/usr/people/svenmd/anaconda3/lib/python3.6/site-packages/ipykernel_launcher.py:3: RuntimeWarning: invalid value encountered in true_divide\n",
      "  This is separate from the ipykernel package so we can avoid doing imports until\n"
     ]
    }
   ],
   "source": [
    "latent_vecs = []\n",
    "\n",
    "for vec in all_vecs:\n",
    "    latent_vecs.append(combine_views(vec, use_hist=True))\n",
    "    \n",
    "latent_vecs = np.array(latent_vecs)\n",
    "latent_vecs_pca = pca(latent_vecs)"
   ]
  },
  {
   "cell_type": "code",
   "execution_count": 222,
   "metadata": {
    "scrolled": false
   },
   "outputs": [
    {
     "data": {
      "image/png": "[encoded data removed]",
      "text/plain": [
       "<Figure size 720x720 with 1 Axes>"
      ]
     },
     "metadata": {
      "needs_background": "light"
     },
     "output_type": "display_data"
    },
    {
     "data": {
      "image/png": "[encoded data removed]",
      "text/plain": [
       "<Figure size 720x720 with 1 Axes>"
      ]
     },
     "metadata": {
      "needs_background": "light"
     },
     "output_type": "display_data"
    },
    {
     "data": {
      "image/png": "[encoded data removed]",
      "text/plain": [
       "<Figure size 720x720 with 1 Axes>"
      ]
     },
     "metadata": {
      "needs_background": "light"
     },
     "output_type": "display_data"
    }
   ],
   "source": [
    "for axis in [[0, 1], [2, 3], [4, 5]]:\n",
    "    plt.figure(figsize=(10, 10))\n",
    "    plt.scatter(latent_vecs_pca[:, axis[0]], latent_vecs_pca[:, axis[1]], alpha=.5, c=\".2\")\n",
    "\n",
    "    plt.xlabel(\"PCA %d\" % axis[0], fontsize=20)\n",
    "    plt.ylabel(\"PCA %d\" % axis[1], fontsize=20)\n",
    "\n",
    "    plt.show()"
   ]
  },
  {
   "cell_type": "markdown",
   "metadata": {},
   "source": [
    "## Latent vectors (local views)"
   ]
  },
  {
   "cell_type": "code",
   "execution_count": 223,
   "metadata": {},
   "outputs": [],
   "source": [
    "poi_vecs = np.array(poi_vecs)[:, 0]"
   ]
  },
  {
   "cell_type": "code",
   "execution_count": 224,
   "metadata": {
    "scrolled": false
   },
   "outputs": [
    {
     "data": {
      "image/png": "[encoded data removed]",
      "text/plain": [
       "<Figure size 720x720 with 1 Axes>"
      ]
     },
     "metadata": {
      "needs_background": "light"
     },
     "output_type": "display_data"
    },
    {
     "data": {
      "image/png": "[encoded data removed]",
      "text/plain": [
       "<Figure size 720x720 with 1 Axes>"
      ]
     },
     "metadata": {
      "needs_background": "light"
     },
     "output_type": "display_data"
    },
    {
     "data": {
      "image/png": "[encoded data removed]",
      "text/plain": [
       "<Figure size 720x720 with 1 Axes>"
      ]
     },
     "metadata": {
      "needs_background": "light"
     },
     "output_type": "display_data"
    }
   ],
   "source": [
    "latent_vecs = np.array(np.concatenate([poi_vecs, vecs]))\n",
    "latent_vecs_pca = pca(latent_vecs)\n",
    "\n",
    "for axis in [[0, 1], [2, 3], [4, 5]]:\n",
    "    plt.figure(figsize=(10, 10))\n",
    "    plt.scatter(latent_vecs_pca[len(poi_vecs):, axis[0]], \n",
    "                latent_vecs_pca[len(poi_vecs):, axis[1]], \n",
    "                alpha=.1, c=\".2\")\n",
    "\n",
    "    plt.scatter(latent_vecs_pca[:len(poi_vecs), axis[0]], \n",
    "                latent_vecs_pca[:len(poi_vecs), axis[1]], \n",
    "                alpha=.25, c=\"r\")\n",
    "    \n",
    "    plt.xlabel(\"PCA %d\" % axis[0], fontsize=20)\n",
    "    plt.ylabel(\"PCA %d\" % axis[1], fontsize=20)\n",
    "\n",
    "    plt.show()"
   ]
  },
  {
   "cell_type": "code",
   "execution_count": null,
   "metadata": {},
   "outputs": [],
   "source": []
  },
  {
   "cell_type": "code",
   "execution_count": null,
   "metadata": {},
   "outputs": [],
   "source": []
  }
 ],
 "metadata": {
  "kernelspec": {
   "display_name": "Python 3",
   "language": "python",
   "name": "python3"
  },
  "language_info": {
   "codemirror_mode": {
    "name": "ipython",
    "version": 3
   },
   "file_extension": ".py",
   "mimetype": "text/x-python",
   "name": "python",
   "nbconvert_exporter": "python",
   "pygments_lexer": "ipython3",
   "version": "3.6.6"
  }
 },
 "nbformat": 4,
 "nbformat_minor": 2
}
