{
 "cells": [
  {
   "cell_type": "code",
   "execution_count": 1,
   "metadata": {},
   "outputs": [
    {
     "name": "stdout",
     "output_type": "stream",
     "text": [
      "\u001b[1;93mDeprecation Warning: /usr/people/svenmd/.cloudvolume/secrets/google-secret.json is now preferred to /secrets/google-secret.json.\u001b[m\n",
      "\u001b[1;93mDeprecation Warning: /usr/people/svenmd/.cloudvolume/secrets/google-secret.json is now preferred to /secrets/google-secret.json.\u001b[m\n",
      "\u001b[1;93mDeprecation Warning: /usr/people/svenmd/.cloudvolume/secrets/aws-secret.json is now preferred to /secrets/aws-secret.json.\u001b[m\n"
     ]
    }
   ],
   "source": [
    "import neuronencodings as ne\n",
    "from meshparty import mesh_io\n",
    "import torch\n",
    "from neuroglancer_annotation_ui import interface\n",
    "import importlib\n",
    "\n",
    "interface.neuroglancer.server.global_server_args = dict(bind_address='localhost', bind_port=8888)"
   ]
  },
  {
   "cell_type": "markdown",
   "metadata": {},
   "source": [
    "## Setting up"
   ]
  },
  {
   "cell_type": "code",
   "execution_count": 2,
   "metadata": {},
   "outputs": [],
   "source": [
    "d = ne.data.fetch_dset_dirs(\"full_cells_refined\")[0]\n",
    "fs = ne.data.utils.files_from_dir(d)\n",
    "n_pts = 1000\n",
    "\n",
    "meshmeta = mesh_io.MeshMeta()\n",
    "\n",
    "chkpt_fname = \"/usr/people/nturner/seungmount/research/nick_and_sven/models_sven/full_cells_ae_local_v6/models/model_97500.chkpt\"\n",
    "state_dict = torch.load(chkpt_fname)\n",
    "\n",
    "del_keys = []\n",
    "for k in state_dict.keys():\n",
    "    if k.endswith(\"num_batches_tracked\"):\n",
    "        del_keys.append(k)\n",
    "        \n",
    "for k in del_keys:\n",
    "    del state_dict[k]\n",
    "\n",
    "model = ne.utils.load_autoencoder(\"PointNetAE\", n_pts=n_pts, bottle_fs=64, state_dict=state_dict, bn=True)"
   ]
  },
  {
   "cell_type": "markdown",
   "metadata": {},
   "source": [
    "## Running inference"
   ]
  },
  {
   "cell_type": "code",
   "execution_count": 3,
   "metadata": {},
   "outputs": [],
   "source": [
    "mesh = meshmeta.mesh(fs[0])\n",
    "vectors, center_inds = ne.pred.encode_mesh_by_views(model, mesh, 1000, order=\"sequential\", verbose=False)"
   ]
  },
  {
   "cell_type": "markdown",
   "metadata": {},
   "source": [
    "## Visualization"
   ]
  },
  {
   "cell_type": "code",
   "execution_count": 2,
   "metadata": {},
   "outputs": [],
   "source": [
    "ngl_url = \"neuromancer-seung-import.appspot.com\"\n",
    "image_source = \"precomputed://gs://neuroglancer/pinky40_v11/image\"\n",
    "segmentation_source = \"precomputed://gs://neuroglancer/pinky40_v11/watershed_mst_trimmed_sem_remap\"\n",
    "image_layer_name = \"img\"\n",
    "segmentation_layer_name = \"seg\""
   ]
  },
  {
   "cell_type": "code",
   "execution_count": 3,
   "metadata": {},
   "outputs": [],
   "source": [
    "viewer = interface.Interface(ngl_url=ngl_url)\n",
    "viewer.add_segmentation_layer(segmentation_layer_name, segmentation_source)\n",
    "viewer.add_image_layer(image_layer_name, image_source)"
   ]
  },
  {
   "cell_type": "code",
   "execution_count": 4,
   "metadata": {},
   "outputs": [
    {
     "data": {
      "text/html": [
       "<a href=\"http://localhost:9999/v/52eb307c5e22da5411e166d5feb912bb35a3a0af/\" target=\"_blank\">Viewer</a>"
      ],
      "text/plain": [
       "http://localhost:9999/v/52eb307c5e22da5411e166d5feb912bb35a3a0af/"
      ]
     },
     "execution_count": 4,
     "metadata": {},
     "output_type": "execute_result"
    }
   ],
   "source": [
    "viewer"
   ]
  },
  {
   "cell_type": "code",
   "execution_count": null,
   "metadata": {},
   "outputs": [],
   "source": []
  }
 ],
 "metadata": {
  "kernelspec": {
   "display_name": "Python 3",
   "language": "python",
   "name": "python3"
  },
  "language_info": {
   "codemirror_mode": {
    "name": "ipython",
    "version": 3
   },
   "file_extension": ".py",
   "mimetype": "text/x-python",
   "name": "python",
   "nbconvert_exporter": "python",
   "pygments_lexer": "ipython3",
   "version": "3.6.6"
  }
 },
 "nbformat": 4,
 "nbformat_minor": 2
}
